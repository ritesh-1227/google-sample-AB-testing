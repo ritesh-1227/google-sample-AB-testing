{
 "cells": [
  {
   "cell_type": "code",
   "execution_count": 1,
   "id": "ff39c207-8882-4e4e-b259-6cba071bee3b",
   "metadata": {},
   "outputs": [
    {
     "name": "stdout",
     "output_type": "stream",
     "text": [
      "Current working directory: E:\\projectSpace\\google_analytics_ab_testing\\notebooks\n",
      "Updated working directory: E:\\projectSpace\\google_analytics_ab_testing\n"
     ]
    }
   ],
   "source": [
    "import os\n",
    "\n",
    "# Print the current working directory for debugging purposes\n",
    "print(\"Current working directory:\", os.getcwd())\n",
    "\n",
    "# If the current directory ends with 'notebooks', change to its parent directory\n",
    "if os.path.basename(os.getcwd()) == \"notebooks\":\n",
    "    os.chdir(\"..\")\n",
    "\n",
    "print(\"Updated working directory:\", os.getcwd())"
   ]
  },
  {
   "cell_type": "code",
   "execution_count": 2,
   "id": "23a5bc60-93b3-4d73-aecc-1b47944afd2f",
   "metadata": {},
   "outputs": [],
   "source": [
    "# Import the necessary functions\n",
    "import src.data_extraction as de\n",
    "\n",
    "# Initialize the client\n",
    "client = de.BigQueryClient()\n"
   ]
  },
  {
   "cell_type": "code",
   "execution_count": 3,
   "id": "51817417-c4c1-4419-88aa-0b8d19891b4a",
   "metadata": {},
   "outputs": [
    {
     "name": "stdout",
     "output_type": "stream",
     "text": [
      "Downloading: 100%|\u001b[32m████████████████████████████████████████████████████████████████████████████████████████████████████\u001b[0m|\u001b[0m\n",
      "Query executed successfully using pandas-gbq.\n",
      "Simple Query Result:\n",
      "   col\n",
      "0    1\n"
     ]
    }
   ],
   "source": [
    "simple_query = \"SELECT 1 as col LIMIT 5\"\n",
    "df_simple = client.run_query(simple_query)\n",
    "print(\"Simple Query Result:\")\n",
    "print(df_simple)"
   ]
  },
  {
   "cell_type": "code",
   "execution_count": 4,
   "id": "843d58a2-9097-49cd-b77e-3e3f9db2e320",
   "metadata": {},
   "outputs": [
    {
     "name": "stdout",
     "output_type": "stream",
     "text": [
      "Final Query: \n",
      "            SELECT \n",
      "              fullVisitorId,\n",
      "              visitId,\n",
      "              visitNumber,\n",
      "              date,\n",
      "              totals.pageviews AS pageviews,\n",
      "              totals.timeOnSite AS timeOnSite,\n",
      "              totals.transactions AS transactions,\n",
      "              totals.totalTransactionRevenue AS totalTransactionRevenue,\n",
      "              trafficSource.source AS trafficSource,\n",
      "              trafficSource.medium AS trafficMedium,\n",
      "              trafficSource.campaign AS trafficCampaign,\n",
      "              geoNetwork.country AS country,\n",
      "              geoNetwork.city AS city\n",
      "            FROM `bigquery-public-data.google_analytics_sample.ga_sessions_*`\n",
      "         LIMIT 1000000\n",
      "Downloading: 100%|\u001b[32m████████████████████████████████████████████████████████████████████████████████████████████████████\u001b[0m|\u001b[0m\n",
      "Query executed successfully using pandas-gbq.\n",
      "Raw Data:\n"
     ]
    },
    {
     "data": {
      "text/html": [
       "<div>\n",
       "<style scoped>\n",
       "    .dataframe tbody tr th:only-of-type {\n",
       "        vertical-align: middle;\n",
       "    }\n",
       "\n",
       "    .dataframe tbody tr th {\n",
       "        vertical-align: top;\n",
       "    }\n",
       "\n",
       "    .dataframe thead th {\n",
       "        text-align: right;\n",
       "    }\n",
       "</style>\n",
       "<table border=\"1\" class=\"dataframe\">\n",
       "  <thead>\n",
       "    <tr style=\"text-align: right;\">\n",
       "      <th></th>\n",
       "      <th>fullVisitorId</th>\n",
       "      <th>visitId</th>\n",
       "      <th>visitNumber</th>\n",
       "      <th>date</th>\n",
       "      <th>pageviews</th>\n",
       "      <th>timeOnSite</th>\n",
       "      <th>transactions</th>\n",
       "      <th>totalTransactionRevenue</th>\n",
       "      <th>trafficSource</th>\n",
       "      <th>trafficMedium</th>\n",
       "      <th>trafficCampaign</th>\n",
       "      <th>country</th>\n",
       "      <th>city</th>\n",
       "    </tr>\n",
       "  </thead>\n",
       "  <tbody>\n",
       "    <tr>\n",
       "      <th>0</th>\n",
       "      <td>2219384770970157334</td>\n",
       "      <td>1501520683</td>\n",
       "      <td>1</td>\n",
       "      <td>2017-07-31</td>\n",
       "      <td>1</td>\n",
       "      <td>&lt;NA&gt;</td>\n",
       "      <td>&lt;NA&gt;</td>\n",
       "      <td>&lt;NA&gt;</td>\n",
       "      <td>google</td>\n",
       "      <td>organic</td>\n",
       "      <td>(not set)</td>\n",
       "      <td>Slovakia</td>\n",
       "      <td>not available in demo dataset</td>\n",
       "    </tr>\n",
       "    <tr>\n",
       "      <th>1</th>\n",
       "      <td>3257231109110009503</td>\n",
       "      <td>1501512773</td>\n",
       "      <td>1</td>\n",
       "      <td>2017-07-31</td>\n",
       "      <td>1</td>\n",
       "      <td>&lt;NA&gt;</td>\n",
       "      <td>&lt;NA&gt;</td>\n",
       "      <td>&lt;NA&gt;</td>\n",
       "      <td>google</td>\n",
       "      <td>organic</td>\n",
       "      <td>(not set)</td>\n",
       "      <td>United Kingdom</td>\n",
       "      <td>not available in demo dataset</td>\n",
       "    </tr>\n",
       "    <tr>\n",
       "      <th>2</th>\n",
       "      <td>1481009813315636845</td>\n",
       "      <td>1501559508</td>\n",
       "      <td>1</td>\n",
       "      <td>2017-07-31</td>\n",
       "      <td>1</td>\n",
       "      <td>&lt;NA&gt;</td>\n",
       "      <td>&lt;NA&gt;</td>\n",
       "      <td>&lt;NA&gt;</td>\n",
       "      <td>google</td>\n",
       "      <td>organic</td>\n",
       "      <td>(not set)</td>\n",
       "      <td>Thailand</td>\n",
       "      <td>Bangkok</td>\n",
       "    </tr>\n",
       "    <tr>\n",
       "      <th>3</th>\n",
       "      <td>4042576478930992747</td>\n",
       "      <td>1501520907</td>\n",
       "      <td>1</td>\n",
       "      <td>2017-07-31</td>\n",
       "      <td>1</td>\n",
       "      <td>&lt;NA&gt;</td>\n",
       "      <td>&lt;NA&gt;</td>\n",
       "      <td>&lt;NA&gt;</td>\n",
       "      <td>google</td>\n",
       "      <td>organic</td>\n",
       "      <td>(not set)</td>\n",
       "      <td>Greece</td>\n",
       "      <td>not available in demo dataset</td>\n",
       "    </tr>\n",
       "    <tr>\n",
       "      <th>4</th>\n",
       "      <td>1478324366289834997</td>\n",
       "      <td>1501486642</td>\n",
       "      <td>1</td>\n",
       "      <td>2017-07-31</td>\n",
       "      <td>1</td>\n",
       "      <td>&lt;NA&gt;</td>\n",
       "      <td>&lt;NA&gt;</td>\n",
       "      <td>&lt;NA&gt;</td>\n",
       "      <td>google</td>\n",
       "      <td>organic</td>\n",
       "      <td>(not set)</td>\n",
       "      <td>Singapore</td>\n",
       "      <td>Singapore</td>\n",
       "    </tr>\n",
       "    <tr>\n",
       "      <th>5</th>\n",
       "      <td>559525260205715507</td>\n",
       "      <td>1501487317</td>\n",
       "      <td>2</td>\n",
       "      <td>2017-07-31</td>\n",
       "      <td>&lt;NA&gt;</td>\n",
       "      <td>&lt;NA&gt;</td>\n",
       "      <td>&lt;NA&gt;</td>\n",
       "      <td>&lt;NA&gt;</td>\n",
       "      <td>google</td>\n",
       "      <td>organic</td>\n",
       "      <td>(not set)</td>\n",
       "      <td>Taiwan</td>\n",
       "      <td>not available in demo dataset</td>\n",
       "    </tr>\n",
       "    <tr>\n",
       "      <th>6</th>\n",
       "      <td>9308310352918219134</td>\n",
       "      <td>1501525606</td>\n",
       "      <td>3</td>\n",
       "      <td>2017-07-31</td>\n",
       "      <td>1</td>\n",
       "      <td>&lt;NA&gt;</td>\n",
       "      <td>&lt;NA&gt;</td>\n",
       "      <td>&lt;NA&gt;</td>\n",
       "      <td>(direct)</td>\n",
       "      <td>(none)</td>\n",
       "      <td>(not set)</td>\n",
       "      <td>United States</td>\n",
       "      <td>San Francisco</td>\n",
       "    </tr>\n",
       "    <tr>\n",
       "      <th>7</th>\n",
       "      <td>8266725910918033137</td>\n",
       "      <td>1501557787</td>\n",
       "      <td>2</td>\n",
       "      <td>2017-07-31</td>\n",
       "      <td>1</td>\n",
       "      <td>&lt;NA&gt;</td>\n",
       "      <td>&lt;NA&gt;</td>\n",
       "      <td>&lt;NA&gt;</td>\n",
       "      <td>(direct)</td>\n",
       "      <td>(none)</td>\n",
       "      <td>(not set)</td>\n",
       "      <td>United States</td>\n",
       "      <td>San Francisco</td>\n",
       "    </tr>\n",
       "    <tr>\n",
       "      <th>8</th>\n",
       "      <td>3915383446664515335</td>\n",
       "      <td>1501534445</td>\n",
       "      <td>2</td>\n",
       "      <td>2017-07-31</td>\n",
       "      <td>1</td>\n",
       "      <td>&lt;NA&gt;</td>\n",
       "      <td>&lt;NA&gt;</td>\n",
       "      <td>&lt;NA&gt;</td>\n",
       "      <td>google</td>\n",
       "      <td>cpm</td>\n",
       "      <td>(not set)</td>\n",
       "      <td>United States</td>\n",
       "      <td>San Bruno</td>\n",
       "    </tr>\n",
       "    <tr>\n",
       "      <th>9</th>\n",
       "      <td>7582901463583803669</td>\n",
       "      <td>1501537680</td>\n",
       "      <td>18</td>\n",
       "      <td>2017-07-31</td>\n",
       "      <td>1</td>\n",
       "      <td>&lt;NA&gt;</td>\n",
       "      <td>&lt;NA&gt;</td>\n",
       "      <td>&lt;NA&gt;</td>\n",
       "      <td>(direct)</td>\n",
       "      <td>(none)</td>\n",
       "      <td>(not set)</td>\n",
       "      <td>United States</td>\n",
       "      <td>not available in demo dataset</td>\n",
       "    </tr>\n",
       "  </tbody>\n",
       "</table>\n",
       "</div>"
      ],
      "text/plain": [
       "         fullVisitorId     visitId  visitNumber       date  pageviews  \\\n",
       "0  2219384770970157334  1501520683            1 2017-07-31          1   \n",
       "1  3257231109110009503  1501512773            1 2017-07-31          1   \n",
       "2  1481009813315636845  1501559508            1 2017-07-31          1   \n",
       "3  4042576478930992747  1501520907            1 2017-07-31          1   \n",
       "4  1478324366289834997  1501486642            1 2017-07-31          1   \n",
       "5   559525260205715507  1501487317            2 2017-07-31       <NA>   \n",
       "6  9308310352918219134  1501525606            3 2017-07-31          1   \n",
       "7  8266725910918033137  1501557787            2 2017-07-31          1   \n",
       "8  3915383446664515335  1501534445            2 2017-07-31          1   \n",
       "9  7582901463583803669  1501537680           18 2017-07-31          1   \n",
       "\n",
       "   timeOnSite  transactions  totalTransactionRevenue trafficSource  \\\n",
       "0        <NA>          <NA>                     <NA>        google   \n",
       "1        <NA>          <NA>                     <NA>        google   \n",
       "2        <NA>          <NA>                     <NA>        google   \n",
       "3        <NA>          <NA>                     <NA>        google   \n",
       "4        <NA>          <NA>                     <NA>        google   \n",
       "5        <NA>          <NA>                     <NA>        google   \n",
       "6        <NA>          <NA>                     <NA>      (direct)   \n",
       "7        <NA>          <NA>                     <NA>      (direct)   \n",
       "8        <NA>          <NA>                     <NA>        google   \n",
       "9        <NA>          <NA>                     <NA>      (direct)   \n",
       "\n",
       "  trafficMedium trafficCampaign         country                           city  \n",
       "0       organic       (not set)        Slovakia  not available in demo dataset  \n",
       "1       organic       (not set)  United Kingdom  not available in demo dataset  \n",
       "2       organic       (not set)        Thailand                        Bangkok  \n",
       "3       organic       (not set)          Greece  not available in demo dataset  \n",
       "4       organic       (not set)       Singapore                      Singapore  \n",
       "5       organic       (not set)          Taiwan  not available in demo dataset  \n",
       "6        (none)       (not set)   United States                  San Francisco  \n",
       "7        (none)       (not set)   United States                  San Francisco  \n",
       "8           cpm       (not set)   United States                      San Bruno  \n",
       "9        (none)       (not set)   United States  not available in demo dataset  "
      ]
     },
     "execution_count": 4,
     "metadata": {},
     "output_type": "execute_result"
    }
   ],
   "source": [
    "# Extract data for a specific period (e.g., January 2017)\n",
    "raw_data = client.get_sessions_data(limit=1000000)\n",
    "print(\"Raw Data:\")\n",
    "raw_data.head(10)"
   ]
  },
  {
   "cell_type": "code",
   "execution_count": 5,
   "id": "4e7b0154-7f0a-4b54-96b6-29a9d3a3bf3e",
   "metadata": {},
   "outputs": [
    {
     "name": "stdout",
     "output_type": "stream",
     "text": [
      "Number of records for that customer:  19\n",
      "Maximum of VisitNumber for that customer:  19\n"
     ]
    }
   ],
   "source": [
    "print('Number of records for that customer: ' , len(raw_data[raw_data.fullVisitorId == '0209659091905351565']))\n",
    "print('Maximum of VisitNumber for that customer: ', raw_data[raw_data.fullVisitorId == '0209659091905351565']['visitNumber'].max())"
   ]
  },
  {
   "cell_type": "code",
   "execution_count": null,
   "id": "6e2eb0f2-e81a-415b-a5c3-0c0a6d7165ef",
   "metadata": {},
   "outputs": [],
   "source": []
  },
  {
   "cell_type": "code",
   "execution_count": 58,
   "id": "002f7e08-85ae-426d-99ef-574b6313101a",
   "metadata": {
    "scrolled": true
   },
   "outputs": [
    {
     "name": "stdout",
     "output_type": "stream",
     "text": [
      "Data Profile Summary:\n"
     ]
    },
    {
     "data": {
      "text/plain": [
       "{'missing_values': {'fullVisitorId': 0,\n",
       "  'visitId': 0,\n",
       "  'visitNumber': 0,\n",
       "  'date': 0,\n",
       "  'pageviews': 0,\n",
       "  'timeOnSite': 0,\n",
       "  'transactions': 0,\n",
       "  'totalTransactionRevenue': 892138,\n",
       "  'trafficSource': 0,\n",
       "  'trafficMedium': 0,\n",
       "  'trafficCampaign': 0,\n",
       "  'country': 0,\n",
       "  'city': 0},\n",
       " 'descriptive_stats': {'visitNumber': {'count': 903653.0,\n",
       "   'mean': 2.264897034591818,\n",
       "   'std': 9.283734503348215,\n",
       "   'min': 1.0,\n",
       "   '25%': 1.0,\n",
       "   '50%': 1.0,\n",
       "   '75%': 1.0,\n",
       "   'max': 395.0},\n",
       "  'pageviews': {'count': 903653.0,\n",
       "   'mean': 3.8493381862285636,\n",
       "   'std': 7.025001970194299,\n",
       "   'min': 0.0,\n",
       "   '25%': 1.0,\n",
       "   '50%': 1.0,\n",
       "   '75%': 4.0,\n",
       "   'max': 469.0},\n",
       "  'timeOnSite': {'count': 903653.0,\n",
       "   'mean': 131.3256869616988,\n",
       "   'std': 367.5845342955933,\n",
       "   'min': 0.0,\n",
       "   '25%': 0.0,\n",
       "   '50%': 1.0,\n",
       "   '75%': 84.0,\n",
       "   'max': 19017.0},\n",
       "  'transactions': {'count': 903653.0,\n",
       "   'mean': 0.013406694826443336,\n",
       "   'std': 0.12857425628262395,\n",
       "   'min': 0.0,\n",
       "   '25%': 0.0,\n",
       "   '50%': 0.0,\n",
       "   '75%': 0.0,\n",
       "   'max': 25.0},\n",
       "  'totalTransactionRevenue': {'count': 11515.0,\n",
       "   'mean': 154.59394094659143,\n",
       "   'std': 720.4826344719879,\n",
       "   'min': 1.2,\n",
       "   '25%': 29.99,\n",
       "   '50%': 55.61,\n",
       "   '75%': 116.61500000000001,\n",
       "   'max': 47082.06}},\n",
       " 'outliers': {'visitNumber': {'count': 200593,\n",
       "   'min': 2.0,\n",
       "   'max': 395.0,\n",
       "   'sample_values': [2, 3, 2, 2, 18]},\n",
       "  'pageviews': {'count': 95387,\n",
       "   'min': 9.0,\n",
       "   'max': 469.0,\n",
       "   'sample_values': [9.0, 9.0, 9.0, 9.0, 9.0]},\n",
       "  'timeOnSite': {'count': 130831,\n",
       "   'min': 211.0,\n",
       "   'max': 19017.0,\n",
       "   'sample_values': [888.0, 896.0, 1441.0, 535.0, 470.0]},\n",
       "  'transactions': {'count': 11552,\n",
       "   'min': 1.0,\n",
       "   'max': 25.0,\n",
       "   'sample_values': [1.0, 1.0, 1.0, 1.0, 1.0]},\n",
       "  'totalTransactionRevenue': {'count': 1400,\n",
       "   'min': 246.62,\n",
       "   'max': 47082.06,\n",
       "   'sample_values': [612.55, 2494.0, 618.5, 265.88, 999.68]}}}"
      ]
     },
     "execution_count": 58,
     "metadata": {},
     "output_type": "execute_result"
    }
   ],
   "source": [
    "%reload_ext autoreload\n",
    "%autoreload 2\n",
    "    \n",
    "import src.data_cleaning as dc\n",
    "\n",
    "# Profile the data\n",
    "profile = dc.profile_data(raw_data)\n",
    "print(\"Data Profile Summary:\")\n",
    "profile"
   ]
  },
  {
   "cell_type": "code",
   "execution_count": 59,
   "id": "5e00a901-6986-4e62-8aae-89f068304f5d",
   "metadata": {},
   "outputs": [],
   "source": [
    "# raw_data = raw_data[raw_data['country'] == 'United States']"
   ]
  },
  {
   "cell_type": "code",
   "execution_count": 60,
   "id": "c78df4c8-830d-49d6-80c4-f05674df5aed",
   "metadata": {},
   "outputs": [
    {
     "data": {
      "text/plain": [
       "city\n",
       "NotSet           542491\n",
       "Mountain View     40884\n",
       "New York          26371\n",
       "San Francisco     20329\n",
       "Sunnyvale         13086\n",
       "                  ...  \n",
       "Kumamoto              5\n",
       "Deep River            5\n",
       "Daly City             4\n",
       "Boise                 3\n",
       "Bozeman               3\n",
       "Name: count, Length: 648, dtype: Int64"
      ]
     },
     "execution_count": 60,
     "metadata": {},
     "output_type": "execute_result"
    }
   ],
   "source": [
    "raw_data['city'].value_counts(dropna = False).sort_values(ascending = False)"
   ]
  },
  {
   "cell_type": "code",
   "execution_count": 61,
   "id": "b39a1d0f-0b88-49d9-8220-9f95c13a7748",
   "metadata": {},
   "outputs": [
    {
     "data": {
      "text/plain": [
       "country\n",
       "United States     364744\n",
       "India              51140\n",
       "United Kingdom     37393\n",
       "Canada             25869\n",
       "Vietnam            24598\n",
       "                   ...  \n",
       "Norfolk Island         1\n",
       "St. Martin             1\n",
       "St. Barthélemy         1\n",
       "Samoa                  1\n",
       "Anguilla               1\n",
       "Name: count, Length: 222, dtype: Int64"
      ]
     },
     "execution_count": 61,
     "metadata": {},
     "output_type": "execute_result"
    }
   ],
   "source": [
    "raw_data['country'].value_counts(dropna = False).sort_values(ascending = False)"
   ]
  },
  {
   "cell_type": "code",
   "execution_count": 62,
   "id": "cb27a423-c108-4875-84d3-7263d72a868f",
   "metadata": {},
   "outputs": [
    {
     "data": {
      "text/plain": [
       "trafficCampaign\n",
       "NotSet                                875599\n",
       "Data Share Promo                       16403\n",
       "AW - Dynamic Search Ads Whole Site      6213\n",
       "AW - Accessories                        5327\n",
       "AW - Electronics                          74\n",
       "AW - Apparel                              32\n",
       "All Products                               4\n",
       "Data Share                                 1\n",
       "Name: count, dtype: Int64"
      ]
     },
     "execution_count": 62,
     "metadata": {},
     "output_type": "execute_result"
    }
   ],
   "source": [
    "raw_data['trafficCampaign'].value_counts(dropna = False).sort_values(ascending = False)"
   ]
  },
  {
   "cell_type": "code",
   "execution_count": 63,
   "id": "0d09e925-6cef-4a41-a3b6-d2467b9ae988",
   "metadata": {},
   "outputs": [
    {
     "data": {
      "text/plain": [
       "trafficMedium\n",
       "NotSet       371584\n",
       "referral     262022\n",
       "organic      234381\n",
       "affiliate     16403\n",
       "cpc           13079\n",
       "cpm            6184\n",
       "Name: count, dtype: Int64"
      ]
     },
     "execution_count": 63,
     "metadata": {},
     "output_type": "execute_result"
    }
   ],
   "source": [
    "raw_data['trafficMedium'].value_counts(dropna = False).sort_values(ascending = False)"
   ]
  },
  {
   "cell_type": "code",
   "execution_count": 64,
   "id": "91571cf4-1f62-4747-a3ea-ad3b22ca0a31",
   "metadata": {
    "scrolled": true
   },
   "outputs": [
    {
     "data": {
      "text/plain": [
       "trafficSource\n",
       "(direct)       371469\n",
       "google         241280\n",
       "youtube.com    212602\n",
       "Others          61891\n",
       "Partners        16411\n",
       "Name: count, dtype: Int64"
      ]
     },
     "execution_count": 64,
     "metadata": {},
     "output_type": "execute_result"
    }
   ],
   "source": [
    "raw_data['trafficSource'].value_counts(dropna = False).sort_values(ascending = False)"
   ]
  },
  {
   "cell_type": "code",
   "execution_count": 65,
   "id": "d48a6cf3-159e-4aea-a7ac-1a2d34c6e52d",
   "metadata": {},
   "outputs": [
    {
     "data": {
      "text/plain": [
       "totalTransactionRevenue\n",
       "NaN       892138\n",
       "23.99         94\n",
       "24.99         91\n",
       "25.99         84\n",
       "21.99         81\n",
       "           ...  \n",
       "132.94         1\n",
       "241.90         1\n",
       "72.91          1\n",
       "77.50          1\n",
       "25.22          1\n",
       "Name: count, Length: 6201, dtype: int64"
      ]
     },
     "execution_count": 65,
     "metadata": {},
     "output_type": "execute_result"
    }
   ],
   "source": [
    "raw_data['totalTransactionRevenue'].value_counts(dropna = False).sort_values(ascending = False)"
   ]
  },
  {
   "cell_type": "code",
   "execution_count": 66,
   "id": "7820ea8e-4d8d-4317-8c7f-5dfed1ad99cf",
   "metadata": {},
   "outputs": [
    {
     "data": {
      "text/plain": [
       "transactions\n",
       "0.0     892101\n",
       "1.0      11199\n",
       "2.0        284\n",
       "3.0         31\n",
       "4.0         13\n",
       "5.0          9\n",
       "6.0          5\n",
       "7.0          3\n",
       "8.0          3\n",
       "12.0         1\n",
       "15.0         1\n",
       "10.0         1\n",
       "21.0         1\n",
       "25.0         1\n",
       "Name: count, dtype: int64"
      ]
     },
     "execution_count": 66,
     "metadata": {},
     "output_type": "execute_result"
    }
   ],
   "source": [
    "raw_data['transactions'].value_counts(dropna = False).sort_values(ascending = False)"
   ]
  },
  {
   "cell_type": "code",
   "execution_count": 67,
   "id": "f12e8e53-b3f6-4ae9-8e07-f6c1ee36bfda",
   "metadata": {},
   "outputs": [
    {
     "data": {
      "text/plain": [
       "timeOnSite\n",
       "0.0       451759\n",
       "4.0         6149\n",
       "5.0         6115\n",
       "6.0         5502\n",
       "51.0        5358\n",
       "           ...  \n",
       "6046.0         1\n",
       "9564.0         1\n",
       "4788.0         1\n",
       "4484.0         1\n",
       "3520.0         1\n",
       "Name: count, Length: 4261, dtype: int64"
      ]
     },
     "execution_count": 67,
     "metadata": {},
     "output_type": "execute_result"
    }
   ],
   "source": [
    "raw_data['timeOnSite'].value_counts(dropna = False).sort_values(ascending = False)"
   ]
  },
  {
   "cell_type": "code",
   "execution_count": 68,
   "id": "6b1210d4-f60f-43ed-adb6-973c417a3f9a",
   "metadata": {},
   "outputs": [
    {
     "data": {
      "text/plain": [
       "pageviews\n",
       "1.0      452522\n",
       "2.0      143770\n",
       "3.0       73835\n",
       "4.0       45192\n",
       "5.0       33411\n",
       "          ...  \n",
       "189.0         1\n",
       "275.0         1\n",
       "186.0         1\n",
       "144.0         1\n",
       "245.0         1\n",
       "Name: count, Length: 214, dtype: int64"
      ]
     },
     "execution_count": 68,
     "metadata": {},
     "output_type": "execute_result"
    }
   ],
   "source": [
    "raw_data['pageviews'].value_counts(dropna = False).sort_values(ascending = False)"
   ]
  },
  {
   "cell_type": "code",
   "execution_count": 69,
   "id": "00ef9aee-9b2a-4810-80a4-eff58ab73db6",
   "metadata": {},
   "outputs": [
    {
     "data": {
      "text/plain": [
       "date\n",
       "2016-11-28    4807\n",
       "2016-11-15    4685\n",
       "2016-11-14    4466\n",
       "2016-11-30    4435\n",
       "2016-10-26    4375\n",
       "              ... \n",
       "2017-05-14    1290\n",
       "2017-05-13    1251\n",
       "2016-12-30    1232\n",
       "2016-12-24    1231\n",
       "2016-12-31    1211\n",
       "Name: count, Length: 366, dtype: int64"
      ]
     },
     "execution_count": 69,
     "metadata": {},
     "output_type": "execute_result"
    }
   ],
   "source": [
    "raw_data['date'].value_counts(dropna = False).sort_values(ascending = False)"
   ]
  },
  {
   "cell_type": "code",
   "execution_count": 70,
   "id": "10a374ad-63af-47c6-a8ee-faf920db3c1f",
   "metadata": {},
   "outputs": [
    {
     "data": {
      "text/plain": [
       "fullVisitorId\n",
       "1957458976293878100    278\n",
       "0824839726118485274    255\n",
       "3608475193341679870    201\n",
       "1856749147915772585    199\n",
       "3269834865385146569    155\n",
       "                      ... \n",
       "1859550379960764305      1\n",
       "8852025007394065390      1\n",
       "9873522478149965889      1\n",
       "7548605002479912192      1\n",
       "212309777676285520       1\n",
       "Name: count, Length: 714167, dtype: Int64"
      ]
     },
     "execution_count": 70,
     "metadata": {},
     "output_type": "execute_result"
    }
   ],
   "source": [
    "raw_data['fullVisitorId'].value_counts(dropna = False).sort_values(ascending = False)"
   ]
  },
  {
   "cell_type": "code",
   "execution_count": 71,
   "id": "3a5d0823-23f2-4cb0-9d94-361d86e51696",
   "metadata": {},
   "outputs": [
    {
     "data": {
      "text/plain": [
       "visitId\n",
       "1493146175    8\n",
       "1484649802    6\n",
       "1478345904    6\n",
       "1481369525    6\n",
       "1494374199    5\n",
       "             ..\n",
       "1470744762    1\n",
       "1470744527    1\n",
       "1470734788    1\n",
       "1470753349    1\n",
       "1495869917    1\n",
       "Name: count, Length: 886303, dtype: Int64"
      ]
     },
     "execution_count": 71,
     "metadata": {},
     "output_type": "execute_result"
    }
   ],
   "source": [
    "raw_data['visitId'].value_counts(dropna = False).sort_values(ascending = False)"
   ]
  },
  {
   "cell_type": "code",
   "execution_count": 72,
   "id": "d79719e2-38c3-4e0b-b5b3-fecbcbde71bb",
   "metadata": {},
   "outputs": [
    {
     "name": "stdout",
     "output_type": "stream",
     "text": [
      "city\n",
      "NotSet           542491\n",
      "Mountain View     40884\n",
      "New York          26371\n",
      "San Francisco     20329\n",
      "Sunnyvale         13086\n",
      "                  ...  \n",
      "Campbell              5\n",
      "Deep River            5\n",
      "Daly City             4\n",
      "Boise                 3\n",
      "Bozeman               3\n",
      "Name: count, Length: 648, dtype: Int64\n",
      "trafficSource\n",
      "(direct)       371469\n",
      "google         241280\n",
      "youtube.com    212602\n",
      "Others          61891\n",
      "Partners        16411\n",
      "Name: count, dtype: Int64\n"
     ]
    },
    {
     "data": {
      "text/html": [
       "<div>\n",
       "<style scoped>\n",
       "    .dataframe tbody tr th:only-of-type {\n",
       "        vertical-align: middle;\n",
       "    }\n",
       "\n",
       "    .dataframe tbody tr th {\n",
       "        vertical-align: top;\n",
       "    }\n",
       "\n",
       "    .dataframe thead th {\n",
       "        text-align: right;\n",
       "    }\n",
       "</style>\n",
       "<table border=\"1\" class=\"dataframe\">\n",
       "  <thead>\n",
       "    <tr style=\"text-align: right;\">\n",
       "      <th></th>\n",
       "      <th>fullVisitorId</th>\n",
       "      <th>visitId</th>\n",
       "      <th>visitNumber</th>\n",
       "      <th>date</th>\n",
       "      <th>pageviews</th>\n",
       "      <th>timeOnSite</th>\n",
       "      <th>transactions</th>\n",
       "      <th>totalTransactionRevenue</th>\n",
       "      <th>trafficSource</th>\n",
       "      <th>trafficMedium</th>\n",
       "      <th>trafficCampaign</th>\n",
       "      <th>country</th>\n",
       "      <th>city</th>\n",
       "    </tr>\n",
       "  </thead>\n",
       "  <tbody>\n",
       "    <tr>\n",
       "      <th>0</th>\n",
       "      <td>2219384770970157334</td>\n",
       "      <td>1501520683</td>\n",
       "      <td>1</td>\n",
       "      <td>2017-07-31</td>\n",
       "      <td>1.0</td>\n",
       "      <td>0.0</td>\n",
       "      <td>0.0</td>\n",
       "      <td>0.0</td>\n",
       "      <td>google</td>\n",
       "      <td>organic</td>\n",
       "      <td>NotSet</td>\n",
       "      <td>Slovakia</td>\n",
       "      <td>NotSet</td>\n",
       "    </tr>\n",
       "    <tr>\n",
       "      <th>1</th>\n",
       "      <td>3257231109110009503</td>\n",
       "      <td>1501512773</td>\n",
       "      <td>1</td>\n",
       "      <td>2017-07-31</td>\n",
       "      <td>1.0</td>\n",
       "      <td>0.0</td>\n",
       "      <td>0.0</td>\n",
       "      <td>0.0</td>\n",
       "      <td>google</td>\n",
       "      <td>organic</td>\n",
       "      <td>NotSet</td>\n",
       "      <td>United Kingdom</td>\n",
       "      <td>NotSet</td>\n",
       "    </tr>\n",
       "    <tr>\n",
       "      <th>2</th>\n",
       "      <td>1481009813315636845</td>\n",
       "      <td>1501559508</td>\n",
       "      <td>1</td>\n",
       "      <td>2017-07-31</td>\n",
       "      <td>1.0</td>\n",
       "      <td>0.0</td>\n",
       "      <td>0.0</td>\n",
       "      <td>0.0</td>\n",
       "      <td>google</td>\n",
       "      <td>organic</td>\n",
       "      <td>NotSet</td>\n",
       "      <td>Thailand</td>\n",
       "      <td>Bangkok</td>\n",
       "    </tr>\n",
       "    <tr>\n",
       "      <th>3</th>\n",
       "      <td>4042576478930992747</td>\n",
       "      <td>1501520907</td>\n",
       "      <td>1</td>\n",
       "      <td>2017-07-31</td>\n",
       "      <td>1.0</td>\n",
       "      <td>0.0</td>\n",
       "      <td>0.0</td>\n",
       "      <td>0.0</td>\n",
       "      <td>google</td>\n",
       "      <td>organic</td>\n",
       "      <td>NotSet</td>\n",
       "      <td>Greece</td>\n",
       "      <td>NotSet</td>\n",
       "    </tr>\n",
       "    <tr>\n",
       "      <th>4</th>\n",
       "      <td>1478324366289834997</td>\n",
       "      <td>1501486642</td>\n",
       "      <td>1</td>\n",
       "      <td>2017-07-31</td>\n",
       "      <td>1.0</td>\n",
       "      <td>0.0</td>\n",
       "      <td>0.0</td>\n",
       "      <td>0.0</td>\n",
       "      <td>google</td>\n",
       "      <td>organic</td>\n",
       "      <td>NotSet</td>\n",
       "      <td>Singapore</td>\n",
       "      <td>Singapore</td>\n",
       "    </tr>\n",
       "  </tbody>\n",
       "</table>\n",
       "</div>"
      ],
      "text/plain": [
       "         fullVisitorId     visitId  visitNumber       date  pageviews  \\\n",
       "0  2219384770970157334  1501520683            1 2017-07-31        1.0   \n",
       "1  3257231109110009503  1501512773            1 2017-07-31        1.0   \n",
       "2  1481009813315636845  1501559508            1 2017-07-31        1.0   \n",
       "3  4042576478930992747  1501520907            1 2017-07-31        1.0   \n",
       "4  1478324366289834997  1501486642            1 2017-07-31        1.0   \n",
       "\n",
       "   timeOnSite  transactions  totalTransactionRevenue trafficSource  \\\n",
       "0         0.0           0.0                      0.0        google   \n",
       "1         0.0           0.0                      0.0        google   \n",
       "2         0.0           0.0                      0.0        google   \n",
       "3         0.0           0.0                      0.0        google   \n",
       "4         0.0           0.0                      0.0        google   \n",
       "\n",
       "  trafficMedium trafficCampaign         country       city  \n",
       "0       organic          NotSet        Slovakia     NotSet  \n",
       "1       organic          NotSet  United Kingdom     NotSet  \n",
       "2       organic          NotSet        Thailand    Bangkok  \n",
       "3       organic          NotSet          Greece     NotSet  \n",
       "4       organic          NotSet       Singapore  Singapore  "
      ]
     },
     "execution_count": 72,
     "metadata": {},
     "output_type": "execute_result"
    }
   ],
   "source": [
    "options = {\n",
    "        'convert_date': False,\n",
    "        'revenue_adjustment': True,\n",
    "        'fill_missing_transactions': True,\n",
    "        'fill_missing_pageviews': True,\n",
    "        'fill_missing_timeOnSite': True,\n",
    "        'timeOnSite_zero_floor': True\n",
    "    }\n",
    "\n",
    "cleaned_data = dc.clean_sessions_data(raw_data, cleaning_options=options)\n",
    "\n",
    "\n",
    "print(cleaned_data['city'].value_counts())\n",
    "print(cleaned_data['trafficSource'].value_counts())\n",
    "\n",
    "cleaned_data.head()"
   ]
  },
  {
   "cell_type": "code",
   "execution_count": 73,
   "id": "d9fad22a-193b-4410-9a21-c5785095fafe",
   "metadata": {},
   "outputs": [
    {
     "name": "stdout",
     "output_type": "stream",
     "text": [
      "<class 'pandas.core.frame.DataFrame'>\n",
      "RangeIndex: 903653 entries, 0 to 903652\n",
      "Data columns (total 13 columns):\n",
      " #   Column                   Non-Null Count   Dtype         \n",
      "---  ------                   --------------   -----         \n",
      " 0   fullVisitorId            903653 non-null  string        \n",
      " 1   visitId                  903653 non-null  string        \n",
      " 2   visitNumber              903653 non-null  Int64         \n",
      " 3   date                     903653 non-null  datetime64[ns]\n",
      " 4   pageviews                903653 non-null  float64       \n",
      " 5   timeOnSite               903653 non-null  float64       \n",
      " 6   transactions             903653 non-null  float64       \n",
      " 7   totalTransactionRevenue  903653 non-null  float64       \n",
      " 8   trafficSource            903653 non-null  string        \n",
      " 9   trafficMedium            903653 non-null  string        \n",
      " 10  trafficCampaign          903653 non-null  string        \n",
      " 11  country                  903653 non-null  string        \n",
      " 12  city                     903653 non-null  string        \n",
      "dtypes: Int64(1), datetime64[ns](1), float64(4), string(7)\n",
      "memory usage: 90.5 MB\n"
     ]
    }
   ],
   "source": [
    "cleaned_data.info()"
   ]
  },
  {
   "cell_type": "code",
   "execution_count": 75,
   "id": "a88f5385-ba99-4da7-92a3-1e815f5a6d3d",
   "metadata": {},
   "outputs": [],
   "source": [
    "# cleaned_data.to_csv('data/processed.csv')"
   ]
  },
  {
   "cell_type": "code",
   "execution_count": null,
   "id": "d39d29cd-5c30-4bd2-a58a-5188460ef069",
   "metadata": {},
   "outputs": [],
   "source": []
  }
 ],
 "metadata": {
  "kernelspec": {
   "display_name": "Python 3 (ipykernel)",
   "language": "python",
   "name": "python3"
  },
  "language_info": {
   "codemirror_mode": {
    "name": "ipython",
    "version": 3
   },
   "file_extension": ".py",
   "mimetype": "text/x-python",
   "name": "python",
   "nbconvert_exporter": "python",
   "pygments_lexer": "ipython3",
   "version": "3.10.16"
  }
 },
 "nbformat": 4,
 "nbformat_minor": 5
}
