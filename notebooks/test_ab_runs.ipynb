{
 "cells": [
  {
   "cell_type": "code",
   "execution_count": 6,
   "id": "0819eca7-3da4-4b6d-9ed8-8dd2015b89e8",
   "metadata": {},
   "outputs": [],
   "source": [
    "import os\n",
    "import numpy as np\n",
    "import pandas as pd\n",
    "\n",
    "# Adjust working directory so that Python sees 'src' as a package\n",
    "if not os.path.exists('src'):\n",
    "    os.chdir(\"..\")\n",
    "    \n",
    "from src.ab_testing import ABTest"
   ]
  },
  {
   "cell_type": "code",
   "execution_count": 20,
   "id": "19567a15-245f-41a2-b637-a5f65ab45350",
   "metadata": {},
   "outputs": [
    {
     "name": "stderr",
     "output_type": "stream",
     "text": [
      "C:\\Users\\rites\\AppData\\Local\\Temp\\ipykernel_10480\\761449340.py:1: DtypeWarning: Columns (0) have mixed types. Specify dtype option on import or set low_memory=False.\n",
      "  cleaned_df = pd.read_csv('data/user_agg_cleaned.csv')\n"
     ]
    }
   ],
   "source": [
    "cleaned_df = pd.read_csv('data/user_agg_cleaned.csv')"
   ]
  },
  {
   "cell_type": "code",
   "execution_count": 21,
   "id": "21684a90-1c54-444c-84b9-4cf304f31c1a",
   "metadata": {},
   "outputs": [
    {
     "data": {
      "text/html": [
       "<div>\n",
       "<style scoped>\n",
       "    .dataframe tbody tr th:only-of-type {\n",
       "        vertical-align: middle;\n",
       "    }\n",
       "\n",
       "    .dataframe tbody tr th {\n",
       "        vertical-align: top;\n",
       "    }\n",
       "\n",
       "    .dataframe thead th {\n",
       "        text-align: right;\n",
       "    }\n",
       "</style>\n",
       "<table border=\"1\" class=\"dataframe\">\n",
       "  <thead>\n",
       "    <tr style=\"text-align: right;\">\n",
       "      <th></th>\n",
       "      <th>fullVisitorId</th>\n",
       "      <th>visitId</th>\n",
       "      <th>visitNumber</th>\n",
       "      <th>date</th>\n",
       "      <th>pageviews</th>\n",
       "      <th>timeOnSite</th>\n",
       "      <th>transactions</th>\n",
       "      <th>totalTransactionRevenue</th>\n",
       "      <th>trafficSource</th>\n",
       "      <th>trafficMedium</th>\n",
       "      <th>trafficCampaign</th>\n",
       "      <th>country</th>\n",
       "      <th>city</th>\n",
       "    </tr>\n",
       "  </thead>\n",
       "  <tbody>\n",
       "    <tr>\n",
       "      <th>0</th>\n",
       "      <td>6241439595091955523</td>\n",
       "      <td>1472141622</td>\n",
       "      <td>1</td>\n",
       "      <td>2016-08-25</td>\n",
       "      <td>1.0</td>\n",
       "      <td>0.0</td>\n",
       "      <td>0.0</td>\n",
       "      <td>0.0</td>\n",
       "      <td>google</td>\n",
       "      <td>organic</td>\n",
       "      <td>NotSet</td>\n",
       "      <td>Canada</td>\n",
       "      <td>NotSet</td>\n",
       "    </tr>\n",
       "    <tr>\n",
       "      <th>1</th>\n",
       "      <td>9613025776425213347</td>\n",
       "      <td>1472118423</td>\n",
       "      <td>1</td>\n",
       "      <td>2016-08-25</td>\n",
       "      <td>1.0</td>\n",
       "      <td>0.0</td>\n",
       "      <td>0.0</td>\n",
       "      <td>0.0</td>\n",
       "      <td>Others</td>\n",
       "      <td>organic</td>\n",
       "      <td>NotSet</td>\n",
       "      <td>China</td>\n",
       "      <td>NotSet</td>\n",
       "    </tr>\n",
       "    <tr>\n",
       "      <th>2</th>\n",
       "      <td>633905821044866910</td>\n",
       "      <td>1472114673</td>\n",
       "      <td>1</td>\n",
       "      <td>2016-08-25</td>\n",
       "      <td>1.0</td>\n",
       "      <td>0.0</td>\n",
       "      <td>0.0</td>\n",
       "      <td>0.0</td>\n",
       "      <td>google</td>\n",
       "      <td>organic</td>\n",
       "      <td>NotSet</td>\n",
       "      <td>Spain</td>\n",
       "      <td>NotSet</td>\n",
       "    </tr>\n",
       "    <tr>\n",
       "      <th>3</th>\n",
       "      <td>0479739850734519152</td>\n",
       "      <td>1472193794</td>\n",
       "      <td>1</td>\n",
       "      <td>2016-08-25</td>\n",
       "      <td>1.0</td>\n",
       "      <td>0.0</td>\n",
       "      <td>0.0</td>\n",
       "      <td>0.0</td>\n",
       "      <td>google</td>\n",
       "      <td>organic</td>\n",
       "      <td>NotSet</td>\n",
       "      <td>Hungary</td>\n",
       "      <td>NotSet</td>\n",
       "    </tr>\n",
       "    <tr>\n",
       "      <th>4</th>\n",
       "      <td>5518305200549853272</td>\n",
       "      <td>1472122087</td>\n",
       "      <td>1</td>\n",
       "      <td>2016-08-25</td>\n",
       "      <td>1.0</td>\n",
       "      <td>0.0</td>\n",
       "      <td>0.0</td>\n",
       "      <td>0.0</td>\n",
       "      <td>google</td>\n",
       "      <td>organic</td>\n",
       "      <td>NotSet</td>\n",
       "      <td>Ukraine</td>\n",
       "      <td>NotSet</td>\n",
       "    </tr>\n",
       "  </tbody>\n",
       "</table>\n",
       "</div>"
      ],
      "text/plain": [
       "         fullVisitorId     visitId  visitNumber        date  pageviews  \\\n",
       "0  6241439595091955523  1472141622            1  2016-08-25        1.0   \n",
       "1  9613025776425213347  1472118423            1  2016-08-25        1.0   \n",
       "2   633905821044866910  1472114673            1  2016-08-25        1.0   \n",
       "3  0479739850734519152  1472193794            1  2016-08-25        1.0   \n",
       "4  5518305200549853272  1472122087            1  2016-08-25        1.0   \n",
       "\n",
       "   timeOnSite  transactions  totalTransactionRevenue trafficSource  \\\n",
       "0         0.0           0.0                      0.0        google   \n",
       "1         0.0           0.0                      0.0        Others   \n",
       "2         0.0           0.0                      0.0        google   \n",
       "3         0.0           0.0                      0.0        google   \n",
       "4         0.0           0.0                      0.0        google   \n",
       "\n",
       "  trafficMedium trafficCampaign  country    city  \n",
       "0       organic          NotSet   Canada  NotSet  \n",
       "1       organic          NotSet    China  NotSet  \n",
       "2       organic          NotSet    Spain  NotSet  \n",
       "3       organic          NotSet  Hungary  NotSet  \n",
       "4       organic          NotSet  Ukraine  NotSet  "
      ]
     },
     "execution_count": 21,
     "metadata": {},
     "output_type": "execute_result"
    }
   ],
   "source": [
    "cleaned_df.head()"
   ]
  },
  {
   "cell_type": "code",
   "execution_count": 22,
   "id": "ff777757-80cc-4c03-b33e-47d2080a7005",
   "metadata": {},
   "outputs": [
    {
     "name": "stdout",
     "output_type": "stream",
     "text": [
      "<class 'pandas.core.frame.DataFrame'>\n",
      "RangeIndex: 903653 entries, 0 to 903652\n",
      "Data columns (total 13 columns):\n",
      " #   Column                   Non-Null Count   Dtype  \n",
      "---  ------                   --------------   -----  \n",
      " 0   fullVisitorId            903653 non-null  object \n",
      " 1   visitId                  903653 non-null  int64  \n",
      " 2   visitNumber              903653 non-null  int64  \n",
      " 3   date                     903653 non-null  object \n",
      " 4   pageviews                903653 non-null  float64\n",
      " 5   timeOnSite               903653 non-null  float64\n",
      " 6   transactions             903653 non-null  float64\n",
      " 7   totalTransactionRevenue  903653 non-null  float64\n",
      " 8   trafficSource            903653 non-null  object \n",
      " 9   trafficMedium            903653 non-null  object \n",
      " 10  trafficCampaign          903653 non-null  object \n",
      " 11  country                  903653 non-null  object \n",
      " 12  city                     903653 non-null  object \n",
      "dtypes: float64(4), int64(2), object(7)\n",
      "memory usage: 89.6+ MB\n"
     ]
    }
   ],
   "source": [
    "cleaned_df.info()"
   ]
  },
  {
   "cell_type": "code",
   "execution_count": null,
   "id": "94017cfa-959c-41c0-a078-a52261b807ce",
   "metadata": {},
   "outputs": [],
   "source": []
  },
  {
   "cell_type": "code",
   "execution_count": 16,
   "id": "2de92a95-b80b-4169-b62c-bc4c2536cd2f",
   "metadata": {},
   "outputs": [],
   "source": [
    "ab = ABTest(\n",
    "    df=cleaned_df,\n",
    "    control_filter={\"trafficSource\": \"google\"},\n",
    "    test_filter={\"trafficSource\": \"Others\"}\n",
    ")"
   ]
  },
  {
   "cell_type": "code",
   "execution_count": 17,
   "id": "ceccc3d5-e1d9-4447-81af-6ba255999848",
   "metadata": {},
   "outputs": [
    {
     "data": {
      "text/plain": [
       "{'test_type': 't_test',\n",
       " 'column': 'totalTransactionRevenue',\n",
       " 'transform': 'winsor',\n",
       " 'zero_inflation': True,\n",
       " 'alpha': 0.05,\n",
       " 'zero_test': {'control_zero_rate': 0.9903265915119364,\n",
       "  'test_zero_rate': 0.99020101052079,\n",
       "  'chi2_statistic': np.float64(0.05074048615993102),\n",
       "  'p_value': np.float64(0.8217797460069721),\n",
       "  'table': [[238946, 2334], [45271, 448]]},\n",
       " 'main_test': {'sample_sizes': (2334, 448),\n",
       "  'test_statistic': np.float64(-9.950384748810551),\n",
       "  'p_value': np.float64(6.047905473131331e-23),\n",
       "  'control_mean': 89.28247879177377,\n",
       "  'test_mean': 159.34348883928573}}"
      ]
     },
     "execution_count": 17,
     "metadata": {},
     "output_type": "execute_result"
    }
   ],
   "source": [
    "result = ab.run_test(\n",
    "    column=\"totalTransactionRevenue\",\n",
    "    test_type=\"t_test\",\n",
    "    transform=\"winsor\",\n",
    "    zero_inflation=True\n",
    ")\n",
    "result"
   ]
  },
  {
   "cell_type": "code",
   "execution_count": 19,
   "id": "61c39e72-f8ae-497d-91bc-95cf1095f02c",
   "metadata": {},
   "outputs": [
    {
     "name": "stderr",
     "output_type": "stream",
     "text": [
      "C:\\Users\\rites\\AppData\\Local\\Temp\\ipykernel_10480\\1762969642.py:1: DtypeWarning: Columns (0) have mixed types. Specify dtype option on import or set low_memory=False.\n",
      "  back = pd.read_csv('data/cleaned_sessions.csv')\n"
     ]
    },
    {
     "name": "stdout",
     "output_type": "stream",
     "text": [
      "Number of unique fullVisitorId: 735539\n",
      "Number of rows: 903653\n"
     ]
    }
   ],
   "source": [
    "back = pd.read_csv('data/cleaned_sessions.csv')\n",
    "print(\"Number of unique fullVisitorId:\", back[\"fullVisitorId\"].nunique())\n",
    "print(\"Number of rows:\", len(back))"
   ]
  },
  {
   "cell_type": "code",
   "execution_count": null,
   "id": "437bd041-deae-4864-80fa-044bf39c9719",
   "metadata": {},
   "outputs": [],
   "source": []
  },
  {
   "cell_type": "code",
   "execution_count": 24,
   "id": "4c79830d-7005-48bc-b122-23798f4966fb",
   "metadata": {},
   "outputs": [
    {
     "name": "stderr",
     "output_type": "stream",
     "text": [
      "C:\\Users\\rites\\AppData\\Local\\Temp\\ipykernel_10480\\1089479772.py:4: DtypeWarning: Columns (0) have mixed types. Specify dtype option on import or set low_memory=False.\n",
      "  user_df = pd.read_csv(\"data/user_agg_cleaned.csv\")  # Already aggregated at user level\n"
     ]
    },
    {
     "name": "stdout",
     "output_type": "stream",
     "text": [
      "A/B Test on 'totalTransactionRevenue' using 't_test' test.\n",
      "Applied transform='log', zero_inflation=True. (alpha=0.05)\n",
      "Zero-proportion test: control_zero_rate=98.71%, test_zero_rate=98.74%, p-value=0.242\n",
      "Control Mean=4.21, Test Mean=4.20, p-value=0.6106\n",
      "No statistically significant difference detected.\n"
     ]
    }
   ],
   "source": [
    "from src.hypothesis_recommendation import run_recommendation_test\n",
    "from src.ab_test_reporting import interpret_ab_results\n",
    "\n",
    "user_df = pd.read_csv(\"data/user_agg_cleaned.csv\")  # Already aggregated at user level\n",
    "result = run_recommendation_test(\n",
    "    user_df,\n",
    "    user_id_col=\"fullVisitorId\",\n",
    "    metric_col=\"totalTransactionRevenue\",\n",
    "    test_type=\"t_test\",\n",
    "    transform=\"log\",          # e.g., log transform if skewed\n",
    "    zero_inflation=True\n",
    ")\n",
    "\n",
    "print(interpret_ab_results(result))\n"
   ]
  },
  {
   "cell_type": "code",
   "execution_count": 25,
   "id": "6edda5a6-f257-4da3-b772-289e0b4584e6",
   "metadata": {},
   "outputs": [
    {
     "name": "stderr",
     "output_type": "stream",
     "text": [
      "C:\\Users\\rites\\AppData\\Local\\Temp\\ipykernel_10480\\3364214319.py:4: DtypeWarning: Columns (0) have mixed types. Specify dtype option on import or set low_memory=False.\n",
      "  user_df = pd.read_csv(\"data/user_agg_cleaned.csv\")\n"
     ]
    },
    {
     "name": "stdout",
     "output_type": "stream",
     "text": [
      "A/B Test on 'transactions' using 'mannwhitney' test.\n",
      "Applied transform='none', zero_inflation=True. (alpha=0.05)\n",
      "Zero-proportion test: control_zero_rate=98.91%, test_zero_rate=0.00%, p-value=0.000\n",
      "Control Median=1.00, Test Median=1.00, p-value=0.0000\n",
      "Statistically significant difference.\n"
     ]
    }
   ],
   "source": [
    "from src.hypothesis_pricing import run_pricing_test\n",
    "from src.ab_test_reporting import interpret_ab_results\n",
    "\n",
    "user_df = pd.read_csv(\"data/user_agg_cleaned.csv\")\n",
    "res = run_pricing_test(\n",
    "    user_df,\n",
    "    threshold=200.0,\n",
    "    metric_col=\"transactions\",\n",
    "    test_type=\"mannwhitney\",  # robust for skew\n",
    "    transform=\"none\",\n",
    "    zero_inflation=True\n",
    ")\n",
    "\n",
    "print(interpret_ab_results(res))\n"
   ]
  },
  {
   "cell_type": "code",
   "execution_count": 27,
   "id": "47c162dd-ee48-48ba-9c93-bb893a9f3013",
   "metadata": {},
   "outputs": [
    {
     "name": "stderr",
     "output_type": "stream",
     "text": [
      "C:\\Users\\rites\\AppData\\Local\\Temp\\ipykernel_10480\\2691215243.py:8: DtypeWarning: Columns (0) have mixed types. Specify dtype option on import or set low_memory=False.\n",
      "  user_df = pd.read_csv(\"data/user_agg_cleaned.csv\")\n"
     ]
    },
    {
     "name": "stdout",
     "output_type": "stream",
     "text": [
      "== Product Recommendation Hypothesis ==\n",
      "A/B Test on 'totalTransactionRevenue' using 't_test' test.\n",
      "Applied transform='log', zero_inflation=True. (alpha=0.05)\n",
      "Zero-proportion test: control_zero_rate=98.71%, test_zero_rate=98.74%, p-value=0.242\n",
      "Control Mean=4.21, Test Mean=4.20, p-value=0.6106\n",
      "No statistically significant difference detected.\n",
      "\n",
      "== Dynamic Pricing Hypothesis ==\n",
      "A/B Test on 'transactions' using 'mannwhitney' test.\n",
      "Applied transform='none', zero_inflation=True. (alpha=0.05)\n",
      "Zero-proportion test: control_zero_rate=98.85%, test_zero_rate=0.00%, p-value=0.000\n",
      "Control Median=1.00, Test Median=1.00, p-value=0.0000\n",
      "Statistically significant difference.\n"
     ]
    }
   ],
   "source": [
    "import pandas as pd\n",
    "from src.hypothesis_recommendation import run_recommendation_test\n",
    "from src.hypothesis_pricing import run_pricing_test\n",
    "from src.hypothesis_cross_selling import run_cross_sell_test\n",
    "from src.ab_test_reporting import interpret_ab_results\n",
    "\n",
    "# 1. Load user-level data\n",
    "user_df = pd.read_csv(\"data/user_agg_cleaned.csv\")\n",
    "\n",
    "# 2. Product Recommendation Hypothesis\n",
    "res_reco = run_recommendation_test(\n",
    "    user_df,\n",
    "    metric_col=\"totalTransactionRevenue\",\n",
    "    test_type=\"t_test\",\n",
    "    transform=\"log\",\n",
    "    zero_inflation=True\n",
    ")\n",
    "print(\"== Product Recommendation Hypothesis ==\")\n",
    "print(interpret_ab_results(res_reco))\n",
    "\n",
    "# 3. Dynamic Pricing Hypothesis\n",
    "res_price = run_pricing_test(\n",
    "    user_df,\n",
    "    threshold=300.0,     # maybe define a different threshold\n",
    "    metric_col=\"transactions\",\n",
    "    test_type=\"mannwhitney\",\n",
    "    transform=\"none\",\n",
    "    zero_inflation=True\n",
    ")\n",
    "print(\"\\n== Dynamic Pricing Hypothesis ==\")\n",
    "print(interpret_ab_results(res_price))\n",
    "\n"
   ]
  },
  {
   "cell_type": "code",
   "execution_count": null,
   "id": "e3592b50-938c-416e-af6e-abb4a3ff7899",
   "metadata": {},
   "outputs": [],
   "source": []
  }
 ],
 "metadata": {
  "kernelspec": {
   "display_name": "Python 3 (ipykernel)",
   "language": "python",
   "name": "python3"
  },
  "language_info": {
   "codemirror_mode": {
    "name": "ipython",
    "version": 3
   },
   "file_extension": ".py",
   "mimetype": "text/x-python",
   "name": "python",
   "nbconvert_exporter": "python",
   "pygments_lexer": "ipython3",
   "version": "3.10.16"
  }
 },
 "nbformat": 4,
 "nbformat_minor": 5
}
